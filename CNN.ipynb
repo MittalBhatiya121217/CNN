{
  "cells": [
    {
      "cell_type": "markdown",
      "metadata": {
        "id": "OUgcSgfm-gVw"
      },
      "source": [
        "# **Convolutional Neural Network (CNN)**"
      ]
    },
    {
      "cell_type": "markdown",
      "metadata": {
        "id": "IU-VdJjgiZjw"
      },
      "source": [
        "https://sebastianraschka.com/blog/2020/intro-to-dl-ch01.html\n",
        "\n",
        "https://towardsdatascience.com/neural-networks-basics-29cc093b82be"
      ]
    },
    {
      "cell_type": "markdown",
      "metadata": {
        "id": "NwztueiJk-Uq"
      },
      "source": [
        "https://towardsdatascience.com/machine-learning-for-beginners-an-introduction-to-neural-networks-d49f22d238f9"
      ]
    },
    {
      "cell_type": "markdown",
      "metadata": {
        "id": "EIMK3skQiCyf"
      },
      "source": [
        "https://medium.com/@himadrisankarchatterjee/a-basic-introduction-to-convolutional-neural-network-8e39019b27c4"
      ]
    },
    {
      "cell_type": "markdown",
      "metadata": {
        "id": "275luP9V-ugJ"
      },
      "source": [
        "## **Load packages**"
      ]
    },
    {
      "cell_type": "code",
      "execution_count": null,
      "metadata": {
        "colab": {
          "background_save": true
        },
        "id": "Zd1qUq_4-41w"
      },
      "outputs": [],
      "source": [
        "import tensorflow as tf\n",
        "from tensorflow.keras import datasets, layers, models\n",
        "import matplotlib.pyplot as plt"
      ]
    },
    {
      "cell_type": "markdown",
      "metadata": {
        "id": "ZAsmfiR5_zui"
      },
      "source": [
        "## **Load Data**\n",
        "dataset: CIFAR10"
      ]
    },
    {
      "cell_type": "code",
      "execution_count": null,
      "metadata": {
        "id": "Ta5UtvAe_Uda"
      },
      "outputs": [],
      "source": [
        "(train_images, train_labels), (test_images, test_labels) = datasets.cifar10.load_data()\n",
        "\n",
        "# Normalize pixel values to be between 0 and 1\n",
        "train_images, test_images = train_images / 255.0, test_images / 255.0"
      ]
    },
    {
      "cell_type": "code",
      "execution_count": null,
      "metadata": {
        "id": "WH2KgXWn_Vep"
      },
      "outputs": [],
      "source": [
        "train_images.shape"
      ]
    },
    {
      "cell_type": "markdown",
      "metadata": {
        "id": "MbhqqGHuARUA"
      },
      "source": [
        "## **Create Model**"
      ]
    },
    {
      "cell_type": "code",
      "execution_count": null,
      "metadata": {
        "id": "AH-FZtOsAVS_"
      },
      "outputs": [],
      "source": [
        "model = models.Sequential()\n",
        "#add three converlutional layers\n",
        "model.add(layers.Conv2D(32, (3, 3), activation='relu', input_shape=(32, 32, 3)))\n",
        "model.add(layers.MaxPooling2D((2, 2)))\n",
        "model.add(layers.Conv2D(64, (3, 3), activation='relu'))\n",
        "model.add(layers.MaxPooling2D((2, 2)))\n",
        "model.add(layers.Conv2D(64, (3, 3), activation='relu'))"
      ]
    },
    {
      "cell_type": "code",
      "execution_count": null,
      "metadata": {
        "id": "bkNcNQkdBpzv"
      },
      "outputs": [],
      "source": [
        "#add flatten and dense layers\n",
        "model.add(layers.Flatten())\n",
        "model.add(layers.Dense(64, activation='relu'))\n",
        "model.add(layers.Dense(10))"
      ]
    },
    {
      "cell_type": "code",
      "execution_count": null,
      "metadata": {
        "id": "bFMbb2EyBCoa"
      },
      "outputs": [],
      "source": [
        "model.summary()"
      ]
    },
    {
      "cell_type": "markdown",
      "metadata": {
        "id": "bb6oK6tTA6yf"
      },
      "source": [
        "## **Train model**"
      ]
    },
    {
      "cell_type": "code",
      "execution_count": null,
      "metadata": {
        "id": "IVWjjwlLC0AU"
      },
      "outputs": [],
      "source": [
        "model.compile(optimizer='adam',loss=tf.keras.losses.SparseCategoricalCrossentropy(from_logits=True),metrics=['accuracy'])"
      ]
    },
    {
      "cell_type": "code",
      "execution_count": null,
      "metadata": {
        "id": "w80BjV9DSvTL"
      },
      "outputs": [],
      "source": [
        "history = model.fit(train_images, train_labels, epochs=15, validation_data=(test_images, test_labels))"
      ]
    },
    {
      "cell_type": "markdown",
      "metadata": {
        "id": "FyZ0p5yNFflK"
      },
      "source": [
        "## **Evaluate model**"
      ]
    },
    {
      "cell_type": "markdown",
      "metadata": {
        "id": "l6LYo0NdJiI4"
      },
      "source": [
        "### **print accuarcy and loss on test dataset**"
      ]
    },
    {
      "cell_type": "code",
      "execution_count": null,
      "metadata": {
        "id": "R_owVQ36IH9Q"
      },
      "outputs": [],
      "source": [
        "test_loss, test_acc = model.evaluate(test_images,  test_labels, verbose=2)\n",
        "print(\"loss of test dataset:\"+ str(test_loss))\n",
        "print(\"accuracy of test dataset:\"+str(test_acc))"
      ]
    },
    {
      "cell_type": "markdown",
      "metadata": {
        "id": "rCOB-NcUJsar"
      },
      "source": [
        "### **plot accuracy of each epoch on train and test dataset**"
      ]
    },
    {
      "cell_type": "code",
      "execution_count": null,
      "metadata": {
        "id": "q7kBsgTywuLe"
      },
      "outputs": [],
      "source": [
        "plt.plot(history.history['accuracy'], label='accuracy')\n",
        "plt.plot(history.history['val_accuracy'], label = 'val_accuracy')\n",
        "plt.xlabel('Epoch')\n",
        "plt.ylabel('Accuracy')\n",
        "plt.ylim([0.5, 1])\n",
        "plt.legend(loc='lower right')"
      ]
    },
    {
      "cell_type": "markdown",
      "metadata": {
        "id": "f3gfR_IULexF"
      },
      "source": [
        "\n",
        "### **plot loss of each epoch on train and test dataset**"
      ]
    },
    {
      "cell_type": "code",
      "execution_count": null,
      "metadata": {
        "id": "pCnEqKL-Iwi-"
      },
      "outputs": [],
      "source": [
        "plt.plot(history.history['loss'], label='loss')\n",
        "plt.plot(history.history['val_loss'], label = 'val_loss')\n",
        "plt.xlabel('Epoch')\n",
        "plt.ylabel('Loss')\n",
        "plt.ylim([0.5, 1])\n",
        "plt.legend(loc='lower right')"
      ]
    }
  ],
  "metadata": {
    "colab": {
      "provenance": []
    },
    "kernelspec": {
      "display_name": "Python 3",
      "name": "python3"
    },
    "language_info": {
      "name": "python"
    }
  },
  "nbformat": 4,
  "nbformat_minor": 0
}